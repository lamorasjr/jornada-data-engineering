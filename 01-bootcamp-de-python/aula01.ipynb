{
  "nbformat": 4,
  "nbformat_minor": 0,
  "metadata": {
    "colab": {
      "provenance": [],
      "authorship_tag": "ABX9TyOwDgdrnr0FutOFT66+Ves+"
    },
    "kernelspec": {
      "name": "python3",
      "display_name": "Python 3"
    },
    "language_info": {
      "name": "python"
    }
  },
  "cells": [
    {
      "cell_type": "markdown",
      "source": [
        "# Bootcamp de Python para Dados\n",
        "\n",
        "## Aula 01 - Primeiros passos\n",
        "([Github - Jornada de Dados](https://github.com/lvgalvao/data-engineering-roadmap/tree/main/Bootcamp%20-%20Python%20para%20dados))"
      ],
      "metadata": {
        "id": "VyoLzDgFVG02"
      }
    },
    {
      "cell_type": "markdown",
      "source": [
        "#### 1) Print()"
      ],
      "metadata": {
        "id": "Di9K9qtQXMYA"
      }
    },
    {
      "cell_type": "code",
      "source": [
        "# Exemplo 1\n",
        "print(3 + 5)\n",
        "\n",
        "# Exemplo 2\n",
        "print(\"Olá\" + \" \" + \"Turma\")"
      ],
      "metadata": {
        "colab": {
          "base_uri": "https://localhost:8080/"
        },
        "id": "4Glb7kptXT4t",
        "outputId": "9cc977cc-ff0c-4cc0-edd0-17bee00f0841"
      },
      "execution_count": null,
      "outputs": [
        {
          "output_type": "stream",
          "name": "stdout",
          "text": [
            "8\n",
            "Olá Turma\n"
          ]
        }
      ]
    },
    {
      "cell_type": "markdown",
      "source": [
        "#### 2) Input()"
      ],
      "metadata": {
        "id": "pwUZ2r2fXeJQ"
      }
    },
    {
      "cell_type": "code",
      "source": [
        "# Exemplo 1\n",
        "input(\"Digite seu nome: \")"
      ],
      "metadata": {
        "colab": {
          "base_uri": "https://localhost:8080/",
          "height": 53
        },
        "id": "E4tU6c3YXg03",
        "outputId": "18b02496-f908-4776-80f2-64316b4b1793"
      },
      "execution_count": null,
      "outputs": [
        {
          "name": "stdout",
          "output_type": "stream",
          "text": [
            "Digite seu nome: Luciano\n"
          ]
        },
        {
          "output_type": "execute_result",
          "data": {
            "text/plain": [
              "'Luciano'"
            ],
            "application/vnd.google.colaboratory.intrinsic+json": {
              "type": "string"
            }
          },
          "metadata": {},
          "execution_count": 2
        }
      ]
    },
    {
      "cell_type": "markdown",
      "source": [
        "#### 3) Declaração e Atribuição de Variáveis"
      ],
      "metadata": {
        "id": "7N2HCPouYApX"
      }
    },
    {
      "cell_type": "code",
      "source": [
        "# Exemplo\n",
        "numero = 10\n",
        "mensagem = \"Olá, mundo!\"\n",
        "\n",
        "\n",
        "print(numero, mensagem)"
      ],
      "metadata": {
        "colab": {
          "base_uri": "https://localhost:8080/"
        },
        "id": "7zWkM5iuXxf0",
        "outputId": "5b57a6a7-502e-436b-8219-8da86651166b"
      },
      "execution_count": null,
      "outputs": [
        {
          "output_type": "stream",
          "name": "stdout",
          "text": [
            "10 Olá, mundo!\n"
          ]
        }
      ]
    },
    {
      "cell_type": "markdown",
      "source": [
        "### Desafio do dia: Cálculo de Bônus com Entrada do Usuário\n",
        "Escreva um programa em Python que solicita ao usuário para digitar seu nome, o valor do seu salário mensal e o valor do bônus que recebeu. O programa deve, então, imprimir uma mensagem saudando o usuário pelo nome e informando o valor do salário em comparação com o bônus recebido."
      ],
      "metadata": {
        "id": "0foTOCF4Wru9"
      }
    },
    {
      "cell_type": "code",
      "execution_count": null,
      "metadata": {
        "colab": {
          "base_uri": "https://localhost:8080/"
        },
        "id": "AwCK_8mXU-S7",
        "outputId": "43d41aa9-9442-4bfd-f62c-4e71f00a9099"
      },
      "outputs": [
        {
          "output_type": "stream",
          "name": "stdout",
          "text": [
            "Digite o seu nome: Luciano\n",
            "Digite o seu salario: 5000\n",
            "Digite o seu bonus: 1.5\n",
            "Ola Luciano, seu bonus foi de 8500.0\n"
          ]
        }
      ],
      "source": [
        "CONSTANTE_BONUS = 1000\n",
        "\n",
        "nome_usuario = input(\"Digite o seu nome: \")\n",
        "salario_usuario = float(input(\"Digite o seu salario: \"))\n",
        "bonus_usuario = float(input(\"Digite o seu bonus: \"))\n",
        "\n",
        "valor_bonus = CONSTANTE_BONUS + salario_usuario * bonus_usuario\n",
        "\n",
        "print(f\"Ola {nome_usuario}, seu bonus foi de {valor_bonus}\")"
      ]
    },
    {
      "cell_type": "markdown",
      "source": [],
      "metadata": {
        "id": "9rokH3aRVGyh"
      }
    }
  ]
}